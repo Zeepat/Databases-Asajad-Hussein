{
 "cells": [
  {
   "cell_type": "code",
   "execution_count": 19,
   "metadata": {},
   "outputs": [],
   "source": [
    "from sqlalchemy import create_engine\n",
    "from sqlalchemy.engine import URL\n",
    "from urllib.parse import unquote\n",
    "from sqlalchemy.orm import sessionmaker\n",
    "from sqlalchemy.ext.declarative import declarative_base\n",
    "from sqlalchemy import Column, Integer, String, Float, Date, ForeignKey\n",
    "from sqlalchemy.orm import relationship"
   ]
  },
  {
   "cell_type": "code",
   "execution_count": 20,
   "metadata": {},
   "outputs": [
    {
     "name": "stdout",
     "output_type": "stream",
     "text": [
      "Connecting to database using URL string:\n",
      "mssql+pyodbc://?odbc_connect=DRIVER=ODBC+Driver+17+for+SQL+Server;SERVER=localhost;DATABASE=Lab2;TrustServerCertificate=yes;UID=sa;PWD=123456; \n",
      "\n",
      "Successfully connected to Lab2!\n"
     ]
    }
   ],
   "source": [
    "server_name   = \"localhost\"\n",
    "database_name = \"Lab2\"\n",
    "\n",
    "connection_string = f\"DRIVER=ODBC Driver 17 for SQL Server;SERVER={server_name};DATABASE={database_name};TrustServerCertificate=yes;UID=sa;PWD=123456;\"\n",
    "url_string        = URL.create(\"mssql+pyodbc\", query={\"odbc_connect\": connection_string})\n",
    "\n",
    "print('Connecting to database using URL string:')\n",
    "unquoted_url = unquote(str(url_string))\n",
    "print(unquoted_url, '\\n')\n",
    "\n",
    "try:    \n",
    "    engine = create_engine(url_string)\n",
    "    with engine.connect() as connection:\n",
    "        print(f'Successfully connected to {database_name}!')\n",
    "except Exception as e:\n",
    "    print('Error while connecting to database:\\n')\n",
    "    print(e)"
   ]
  },
  {
   "cell_type": "code",
   "execution_count": 21,
   "metadata": {},
   "outputs": [
    {
     "name": "stderr",
     "output_type": "stream",
     "text": [
      "/var/folders/qs/52nq18yx781_kc58fhrjc7n00000gn/T/ipykernel_21742/4204970373.py:4: MovedIn20Warning: The ``declarative_base()`` function is now available as sqlalchemy.orm.declarative_base(). (deprecated since: 2.0) (Background on SQLAlchemy 2.0 at: https://sqlalche.me/e/b8d9)\n",
      "  Base = declarative_base()\n"
     ]
    }
   ],
   "source": [
    "Session = sessionmaker(bind=engine)\n",
    "session = Session()\n",
    "\n",
    "Base = declarative_base()"
   ]
  },
  {
   "cell_type": "code",
   "execution_count": 22,
   "metadata": {},
   "outputs": [],
   "source": [
    "class Book(Base):\n",
    "    __tablename__ = 'Books'\n",
    "    ISBN13 = Column(String, primary_key=True)\n",
    "    Title = Column(String)\n",
    "    Language = Column(String)\n",
    "    Price = Column(Float)\n",
    "    ReleaseDate = Column('Release Date', Date)\n",
    "    inventory = relationship('Inventory', back_populates='book')"
   ]
  },
  {
   "cell_type": "code",
   "execution_count": 23,
   "metadata": {},
   "outputs": [],
   "source": [
    "class Store(Base):\n",
    "    __tablename__ = 'Stores'\n",
    "    ID = Column(Integer, primary_key=True)\n",
    "    StoreName = Column('Store Name', String)\n",
    "    Address = Column(String)\n",
    "    inventory = relationship('Inventory', back_populates='store')"
   ]
  },
  {
   "cell_type": "code",
   "execution_count": 24,
   "metadata": {},
   "outputs": [],
   "source": [
    "class Inventory(Base):\n",
    "    __tablename__ = 'Inventory'\n",
    "    StoreID = Column(Integer, ForeignKey('Stores.ID'), primary_key=True)\n",
    "    ISBN13 = Column(String, ForeignKey('Books.ISBN13'), primary_key=True)\n",
    "    AmountOfBooks = Column('Amount of books', Integer)\n",
    "    book = relationship('Book', back_populates='inventory')\n",
    "    store = relationship('Store', back_populates='inventory')"
   ]
  },
  {
   "cell_type": "code",
   "execution_count": 25,
   "metadata": {},
   "outputs": [],
   "source": [
    "def search_books(title_search):\n",
    "    try:\n",
    "        results = session.query(Book).filter(Book.Title.ilike(f'%{title_search}%')).all()\n",
    "        \n",
    "        if not results:\n",
    "            print(\"No books found matching the search criteria.\")\n",
    "            return\n",
    "\n",
    "        for book in results:\n",
    "            print(f\"Title: {book.Title}, ISBN: {book.ISBN13}\")\n",
    "            print(\"Stores and availability:\")\n",
    "            for inventory in book.inventory:\n",
    "                print(f\"  Store: {inventory.store.StoreName}, Amount: {inventory.AmountOfBooks}\")\n",
    "            print()\n",
    "\n",
    "    except Exception as e:\n",
    "        print(f\"An error occurred: {e}\")"
   ]
  },
  {
   "cell_type": "code",
   "execution_count": 29,
   "metadata": {},
   "outputs": [
    {
     "name": "stdout",
     "output_type": "stream",
     "text": [
      "Title: The Secret Garden, ISBN: 978-0-316-76948-0\n",
      "Stores and availability:\n",
      "  Store: Booktopia, Amount: 48\n",
      "  Store: Readmore Books, Amount: 35\n",
      "  Store: Novel Ideas, Amount: 0\n",
      "  Store: The Reading Room, Amount: 81\n",
      "  Store: Page Turners, Amount: 106\n",
      "\n",
      "Title: Secrets of the Past, ISBN: 978-1-5040-5104-2\n",
      "Stores and availability:\n",
      "  Store: Booktopia, Amount: 71\n",
      "  Store: Readmore Books, Amount: 25\n",
      "  Store: Novel Ideas, Amount: 91\n",
      "  Store: The Reading Room, Amount: 0\n",
      "  Store: Page Turners, Amount: 0\n",
      "\n"
     ]
    }
   ],
   "source": [
    "while True:\n",
    "    title_search = input(\"Enter a book title to search (or 'exit' to quit): \")\n",
    "    if title_search.lower() == 'exit':\n",
    "        break\n",
    "    search_books(title_search)"
   ]
  }
 ],
 "metadata": {
  "kernelspec": {
   "display_name": "Databases-Asajad-Hussein-0xG6lbfO",
   "language": "python",
   "name": "python3"
  },
  "language_info": {
   "codemirror_mode": {
    "name": "ipython",
    "version": 3
   },
   "file_extension": ".py",
   "mimetype": "text/x-python",
   "name": "python",
   "nbconvert_exporter": "python",
   "pygments_lexer": "ipython3",
   "version": "3.11.4"
  }
 },
 "nbformat": 4,
 "nbformat_minor": 2
}
