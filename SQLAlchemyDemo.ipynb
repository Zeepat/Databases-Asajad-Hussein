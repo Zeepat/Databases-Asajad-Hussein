{
 "cells": [
  {
   "cell_type": "markdown",
   "metadata": {},
   "source": [
    "# Establishing a database connection\n",
    "\n",
    "### The Engine\n",
    "The start of any SQLAlchemy application is an object called the Engine. The engine is typically a global object created just once for a particular database server, and is configured using a URL string which will describe how it should connect to the database host or backend.\n",
    "\n",
    "The Engine is created using the create_engine() method.\n",
    "\n",
    "### The URL string\n",
    "The main argument to create_engine() is a URL string. This string indicates to the Engine three important facts:\n",
    "1. What kind of database are we communicating with? In our example we're using 'mssql' for Microsoft SQL Server.\n",
    "\n",
    "2. What DBAPI are we using? The Python DBAPI is a third party driver that SQLAlchemy uses to interact with a particular database. In this case, we’re using the name pyodbc, which is an open source Python module for accessing ODBC databases. (ODBC is a standard API for accessing databases.)\n",
    "\n",
    "3. How do we locate the database? In our case we need to specify the server and database name.\n",
    "\n",
    "### Getting a connection\n",
    "The sole purpose of the Engine object from a user-facing perspective is to provide a unit of connectivity to the database called the Connection. When working with the Core directly, the Connection object is how all interaction with the database is done. As the Connection represents an open resource against the database, we want to always limit the scope of our use of this object to a specific context, and the best way to do that is by using Python context manager form, also known as the with statement."
   ]
  },
  {
   "cell_type": "code",
   "execution_count": 1,
   "metadata": {},
   "outputs": [
    {
     "name": "stdout",
     "output_type": "stream",
     "text": [
      "Connecting to database using URL string:\n",
      "mssql+pyodbc://?odbc_connect=DRIVER=ODBC+Driver+17+for+SQL+Server;SERVER=localhost;DATABASE=everyloop;TrustServerCertificate=yes;UID=sa;PWD=Kakazayn7; \n",
      "\n",
      "Successfully connected to everyloop!\n"
     ]
    }
   ],
   "source": [
    "from sqlalchemy import create_engine\n",
    "from sqlalchemy.engine import URL\n",
    "from urllib.parse import unquote\n",
    "\n",
    "server_name   = \"localhost\"\n",
    "database_name = \"everyloop\"\n",
    "\n",
    "connection_string = f\"DRIVER=ODBC Driver 17 for SQL Server;SERVER={server_name};DATABASE={database_name};TrustServerCertificate=yes;UID=sa;PWD=123456;\"\n",
    "url_string        = URL.create(\"mssql+pyodbc\", query={\"odbc_connect\": connection_string})\n",
    "\n",
    "print('Connecting to database using URL string:')\n",
    "unquoted_url = unquote(str(url_string))\n",
    "print(unquoted_url, '\\n')\n",
    "\n",
    "try:    \n",
    "    engine = create_engine(url_string)\n",
    "    with engine.connect() as connection:\n",
    "        print(f'Successfully connected to {database_name}!')\n",
    "except Exception as e:\n",
    "    print('Error while connecting to database:\\n')\n",
    "    print(e)"
   ]
  },
  {
   "cell_type": "markdown",
   "metadata": {},
   "source": [
    "# Query database using raw SQL\n",
    " The text() construct allows us to write SQL statements as textual SQL. Rest assured that textual SQL in day-to-day SQLAlchemy use is by far the exception rather than the rule for most tasks, even though it always remains fully available.\n",
    "\n",
    " Let's create a simple query to be used in the examples below:"
   ]
  },
  {
   "cell_type": "code",
   "execution_count": 2,
   "metadata": {},
   "outputs": [
    {
     "data": {
      "text/plain": [
       "sqlalchemy.sql.elements.TextClause"
      ]
     },
     "execution_count": 2,
     "metadata": {},
     "output_type": "execute_result"
    }
   ],
   "source": [
    "from sqlalchemy import text\n",
    "\n",
    "query = text(\"SELECT TOP 5 Id, FirstName, LastName, Email FROM USERS ORDER BY FirstName, LastName\")\n",
    "type(query)"
   ]
  },
  {
   "cell_type": "markdown",
   "metadata": {},
   "source": [
    "### The Result Object\n",
    "When passing our query to Connection.execute() SQLAlchemy will submit the query to the server, which will respond by sending back the requested data (The result set). This result set will be represented as a Result Object returned by Connection.execute() once it gets the response from the server.\n",
    "\n",
    "Note that it’s best practice to ensure that this object is consumed within the “connect” block, and is not passed along outside of the scope of our connection.\n",
    "\n",
    "Let's look at a few examples of how to consume the returned result set:\n",
    "\n",
    "### Execute query and fetch all rows from result"
   ]
  },
  {
   "cell_type": "code",
   "execution_count": 3,
   "metadata": {},
   "outputs": [
    {
     "name": "stdout",
     "output_type": "stream",
     "text": [
      "<sqlalchemy.engine.cursor.CursorResult object at 0x103f7fee0>\n",
      "<class 'sqlalchemy.engine.cursor.CursorResult'>\n",
      "[('741109-2058', 'Alexander', 'Dahl', 'alexander.dahl@telia.se'), ('530720-7675', 'Alvin', 'Lindholm', 'alvin.lindholm@gmail.com'), ('820624-3075', 'Anders', 'Hansson', 'anders.hansson@hotmail.com'), ('751123-9724', 'Anne', 'Åkerman', 'anne.akerman@hotmail.com'), ('620925-4245', 'Annette', 'Bergfalk', 'annette.bergfalk@telia.se')]\n"
     ]
    }
   ],
   "source": [
    "with engine.connect() as conn:\n",
    "    result = conn.execute(query)\n",
    "\n",
    "    print(result)\n",
    "    print(type(result))\n",
    "    print(result.fetchall())"
   ]
  },
  {
   "cell_type": "markdown",
   "metadata": {},
   "source": [
    "### Execute query and iterate through result"
   ]
  },
  {
   "cell_type": "code",
   "execution_count": 4,
   "metadata": {},
   "outputs": [
    {
     "name": "stdout",
     "output_type": "stream",
     "text": [
      "Alexander Dahl\n",
      "Alvin Lindholm\n",
      "Anders Hansson\n",
      "Anne Åkerman\n",
      "Annette Bergfalk\n"
     ]
    }
   ],
   "source": [
    "with engine.connect() as conn:\n",
    "    result = conn.execute(query)\n",
    "\n",
    "    for row in result:\n",
    "        print(f\"{row.FirstName} {row.LastName}\")"
   ]
  },
  {
   "cell_type": "markdown",
   "metadata": {},
   "source": [
    "### Iterate column names and fields"
   ]
  },
  {
   "cell_type": "code",
   "execution_count": 5,
   "metadata": {},
   "outputs": [
    {
     "name": "stdout",
     "output_type": "stream",
     "text": [
      "ID                  FIRSTNAME           LASTNAME            EMAIL               \n",
      "741109-2058         Alexander           Dahl                alexander.dahl@telia.se\n",
      "530720-7675         Alvin               Lindholm            alvin.lindholm@gmail.com\n",
      "820624-3075         Anders              Hansson             anders.hansson@hotmail.com\n",
      "751123-9724         Anne                Åkerman             anne.akerman@hotmail.com\n",
      "620925-4245         Annette             Bergfalk            annette.bergfalk@telia.se\n"
     ]
    }
   ],
   "source": [
    "with engine.connect() as conn:\n",
    "    result = conn.execute(query)\n",
    "\n",
    "    for column_name in result.keys():\n",
    "        print(column_name.upper().ljust(20), end='')\n",
    "    \n",
    "    print()\n",
    "\n",
    "    for row in result:\n",
    "        for field in row:\n",
    "            print(field.ljust(20), end='')\n",
    "        \n",
    "        print()"
   ]
  },
  {
   "cell_type": "markdown",
   "metadata": {},
   "source": [
    "### Create DataFrames from query result\n",
    "Pandas and SQLAlchemy are a match made in Python heaven. They're individually amongst Python's most frequently used libraries. Together they're greater than the sum of their parts, thanks to Pandas' built-in SQLAlchemy integration."
   ]
  },
  {
   "cell_type": "code",
   "execution_count": 6,
   "metadata": {},
   "outputs": [
    {
     "data": {
      "text/html": [
       "<div>\n",
       "<style scoped>\n",
       "    .dataframe tbody tr th:only-of-type {\n",
       "        vertical-align: middle;\n",
       "    }\n",
       "\n",
       "    .dataframe tbody tr th {\n",
       "        vertical-align: top;\n",
       "    }\n",
       "\n",
       "    .dataframe thead th {\n",
       "        text-align: right;\n",
       "    }\n",
       "</style>\n",
       "<table border=\"1\" class=\"dataframe\">\n",
       "  <thead>\n",
       "    <tr style=\"text-align: right;\">\n",
       "      <th></th>\n",
       "      <th>FirstName</th>\n",
       "      <th>LastName</th>\n",
       "      <th>Email</th>\n",
       "    </tr>\n",
       "    <tr>\n",
       "      <th>Id</th>\n",
       "      <th></th>\n",
       "      <th></th>\n",
       "      <th></th>\n",
       "    </tr>\n",
       "  </thead>\n",
       "  <tbody>\n",
       "    <tr>\n",
       "      <th>741109-2058</th>\n",
       "      <td>Alexander</td>\n",
       "      <td>Dahl</td>\n",
       "      <td>alexander.dahl@telia.se</td>\n",
       "    </tr>\n",
       "    <tr>\n",
       "      <th>530720-7675</th>\n",
       "      <td>Alvin</td>\n",
       "      <td>Lindholm</td>\n",
       "      <td>alvin.lindholm@gmail.com</td>\n",
       "    </tr>\n",
       "    <tr>\n",
       "      <th>820624-3075</th>\n",
       "      <td>Anders</td>\n",
       "      <td>Hansson</td>\n",
       "      <td>anders.hansson@hotmail.com</td>\n",
       "    </tr>\n",
       "    <tr>\n",
       "      <th>751123-9724</th>\n",
       "      <td>Anne</td>\n",
       "      <td>Åkerman</td>\n",
       "      <td>anne.akerman@hotmail.com</td>\n",
       "    </tr>\n",
       "    <tr>\n",
       "      <th>620925-4245</th>\n",
       "      <td>Annette</td>\n",
       "      <td>Bergfalk</td>\n",
       "      <td>annette.bergfalk@telia.se</td>\n",
       "    </tr>\n",
       "  </tbody>\n",
       "</table>\n",
       "</div>"
      ],
      "text/plain": [
       "             FirstName  LastName                       Email\n",
       "Id                                                          \n",
       "741109-2058  Alexander      Dahl     alexander.dahl@telia.se\n",
       "530720-7675      Alvin  Lindholm    alvin.lindholm@gmail.com\n",
       "820624-3075     Anders   Hansson  anders.hansson@hotmail.com\n",
       "751123-9724       Anne   Åkerman    anne.akerman@hotmail.com\n",
       "620925-4245    Annette  Bergfalk   annette.bergfalk@telia.se"
      ]
     },
     "execution_count": 6,
     "metadata": {},
     "output_type": "execute_result"
    }
   ],
   "source": [
    "import pandas as pd\n",
    "\n",
    "df = pd.read_sql_query(query, con=engine, index_col=\"Id\")\n",
    "\n",
    "df"
   ]
  },
  {
   "cell_type": "markdown",
   "metadata": {},
   "source": [
    "# Example search application (unsafe implementation)"
   ]
  },
  {
   "cell_type": "code",
   "execution_count": 7,
   "metadata": {},
   "outputs": [
    {
     "name": "stdout",
     "output_type": "stream",
     "text": [
      "Search string: stock\n",
      "\n",
      "IATA    Airport name                                      Location\n",
      "ARN     Stockholm Arlanda Airport                         Stockholm, Sweden\n",
      "BMA     Stockholm Bromma Airport                          Stockholm, Sweden\n",
      "FST     Fort Stockton–Pecos County Airport                Fort Stockton, Texas, United States\n",
      "NYO     Stockholm Skavsta Airport                         Stockholm / Nyköping, Sweden\n",
      "RLG     Rostock–Laage Airport                             Rostock, Mecklenburg-Vorpommern, Germany\n",
      "SCK     Stockton Metropolitan Airport                     Stockton, California, United States\n",
      "SMP     Stockholm Airport[1]                              Stockholm, Papua New Guinea\n",
      "STO     metropolitan area6                                Stockholm, Sweden\n",
      "VST     Stockholm Västerås Airport                        Stockholm / Västerås, Sweden\n",
      "\n",
      "select top 10\n",
      "    IATA, \n",
      "    [Airport name] as 'name', \n",
      "    [Location served] as 'location' \n",
      "from \n",
      "    airports \n",
      "where \n",
      "    [Location served] like '%stock%' \n",
      "\n"
     ]
    }
   ],
   "source": [
    "search_string = input(\"Search airports: \")\n",
    "\n",
    "print(f\"Search string: {search_string}\\n\")\n",
    "\n",
    "unsafe_query = f\"\"\"\n",
    "select top 10\n",
    "    IATA, \n",
    "    [Airport name] as 'name', \n",
    "    [Location served] as 'location' \n",
    "from \n",
    "    airports \n",
    "where \n",
    "    [Location served] like '%{search_string}%'\"\"\"\n",
    "\n",
    "with engine.connect() as conn:    \n",
    "    result = conn.execute(text(unsafe_query))\n",
    "\n",
    "    print(f\"{'IATA'.ljust(8)}{'Airport name'.ljust(50)}{'Location'}\")\n",
    "    ' a'\n",
    "    for airport in result:\n",
    "        print(f\"{str(airport.IATA).ljust(8)}{str(airport.name).ljust(50)}{airport.location}\")\n",
    "\n",
    "    print(unsafe_query, '\\n')\n"
   ]
  },
  {
   "cell_type": "markdown",
   "metadata": {},
   "source": [
    "### SQL injection\n",
    "SQL injection is a code injection technique used to attack data-driven applications, in which malicious SQL statements are inserted into an entry field for execution (e.g. to dump the database contents to the attacker). SQL injection is mostly known as an attack vector for websites but can be used to attack any type of SQL database. Even though this vulnerability is known for over 20 years, injections still rank number 3 in the OWASP's Top 10 for web vulnerabilities.\n",
    "\n",
    "Every programmer involved in the development of applications that makes use of relational databases **SHOULD** know about SQL injection, and how to prevent it. Bad implementations of database interfaces, like the one in the example above, leaves **ALL** your data open for an attack. **ANY** database operation that can be made in a tool like Mangagement Studio can also be made through a web form, or similar user input, using SQL injection.\n",
    "\n",
    "---\n",
    "\n",
    "### Concatenation and dynamic queries\n",
    "The problem with the code above is that it creates a dynamic query by concatenating user inputed data together with predefined SQL. This gives the end-user, not the developer, the final say of what query we send to our DBMS. Consider the example below:\n",
    "\n",
    "The developer wants the user to be able to provide their name using a web form in order to do a database lookup for information about the user. The developer may think that concatenating the username into the query string before sending the request to the DBMS will solve the problem.\n",
    "\n",
    "`query = \"select * from users where username = '\" + username_input + \"';\"`\n",
    "\n",
    "This do solve the problem. If the user enters a valid name, the query string may look like this:\n",
    "\n",
    "`select * from users where username = 'Fredrik';`\n",
    "\n",
    "But what if the user enters the string '; drop database; -- instead? The query string will then look like this:\n",
    "\n",
    "`select * from users where username = ''; drop database; --'`\n",
    "\n",
    "As the application goes on and submits the query it will issue TWO statements to the DBMS: The first will return any row from Users where username is an empty string. The second will delete the database. The two dashes (--) at the end is a line comment to make sure any text after the seccond statement (in this case the ' at the end) is ignored and doesn't cause the query to be invalid.\n",
    "\n",
    "**YOU MUST NEVER ALLOW USER INPUT IN ANY PART OF YOUR QUERIES!**\n",
    "\n",
    "---\n",
    "\n",
    "### Parameterized queries\n",
    "The DBMS is built to be able to recieve the SQL statement and the user data seperatly. This is done by writting SQL using parameters. \n",
    "\n",
    "Here is an example of what that would look like in T-SQL:\n",
    "\n",
    "`Select * from users where username = @username_input;`\n",
    "\n",
    "Now we have a static SQL statment that can be sent to the server coupled with the value of the @username_input parameter. This way, the user can't modify the query itself, and we can be assured that the server interprets the query as we intended.\n",
    "\n",
    "**USER DATA IN QUERIES SHOULD ALWAYS BE PARAMETERIZED!**\n",
    "\n",
    "---\n",
    "\n",
    "### Bound parameters in SQLAlchemy\n",
    "\n",
    "SQLAlchemy's text() construct allows us to bind parameters using the named colon format (:param). This format is consistent regardless of database backend. To send values in for the parameters, we pass them into the Connection.execute() method as additional arguments.\n",
    "\n",
    "In the example below we use the bound parameter *:first_name* in the query, and then pass in the value of the python variable *name* when executing the query."
   ]
  },
  {
   "cell_type": "markdown",
   "metadata": {},
   "source": [
    "\"Rätt\" version:"
   ]
  },
  {
   "cell_type": "code",
   "execution_count": 8,
   "metadata": {},
   "outputs": [
    {
     "name": "stdout",
     "output_type": "stream",
     "text": [
      "[('571110-3843', 'frieri', '7a981e17886344fb031e3735a7284b8c', 'Frida', 'Ericson', 'frida.ericson@hotmail.com', '0702-8579941')]\n"
     ]
    }
   ],
   "source": [
    "name = \"Frida\"\n",
    "\n",
    "parameterized_query = text(\"Select * from Users where FirstName like '%' + :first_name + '%'\")\n",
    "\n",
    "with engine.connect() as conn:    \n",
    "    result = conn.execute(parameterized_query, {\"first_name\": name})\n",
    "    print(result.fetchall())"
   ]
  },
  {
   "cell_type": "markdown",
   "metadata": {},
   "source": [
    "\"Fel\" version:"
   ]
  },
  {
   "cell_type": "code",
   "execution_count": 10,
   "metadata": {},
   "outputs": [
    {
     "name": "stdout",
     "output_type": "stream",
     "text": [
      "[('500603-4268', 'johlen', '422cf6c6f212dde0fa96c532de240104', 'Johanna', 'Lennartsson', 'johanna.lennartsson@gmail.com', '070-9428041'), ('500607-6521', 'catknu', 'c5aa65949d20f6b20e1a922c13d974e7', 'Catharina', 'Knutson', 'catharina.knutson@yahoo.com', '0702-3351252'), ('530407-7989', 'ullalv', '4fec58181bb416f09f8ef0f69433584f', 'Ulla', 'Alvarsson', 'ulla.alvarsson@hotmail.com', '070-9922357'), ('530720-7675', 'alvlin', '2194506fc6ef7a2048f03a0f4ee7c641', 'Alvin', 'Lindholm', 'alvin.lindholm@gmail.com', '0701-6100069'), ('540430-4887', 'milalb', '3047ee053d45323e65192012176a2a1c', 'Milla', 'Albertsson', 'milla.albertsson@gmail.com', '0702-4265981'), ('550930-7164', 'mymard', '3587f76616df673c64f36e1d8babc2e7', 'My', 'Mårdh', 'my.mardh@yahoo.com', '0701-7763403'), ('561108-3389', 'vilmat', 'aa426df08f79c27a95d70a496a69759c', 'Vilhelmina', 'Matsson', 'vilhelmina.matsson@hotmail.com', '0701-8262655'), ('570501-4924', 'monsol', 'c1de2111b16e6b21b794451fe54ef86f', 'Mona', 'Solberg', 'mona.solberg@yahoo.com', '070-9254810'), ('571110-3843', 'frieri', '7a981e17886344fb031e3735a7284b8c', 'Frida', 'Ericson', 'frida.ericson@hotmail.com', '0702-8579941'), ('580802-4175', 'sigpet', '67b48cc32ab9f04633bd50656a4a26fc', 'Sigge', 'Pethrus', 'sigge.pethrus@gmail.com', '073-1923116'), ('591007-1584', 'henblo', '0dd81a42714c6fe8bd670804643b458d', 'Henrietta', 'Blomgren', 'henrietta.blomgren@hotmail.com', '0702-140965'), ('591026-6645', 'jancla', '3e53ae683f8e8c84221db763b30fe907', 'Jannike', 'Claesson', 'jannike.claesson@telia.se', '0701-4033966'), ('600309-7687', 'gunmik', '07c09ba3a403585b6c93f73d03983079', 'Gunnel', 'Mikaelsson', 'gunnel.mikaelsson@hotmail.com', '073-5093738'), ('601103-7655', 'bjowal', '7e9a21b78e3723bde67627aa095f98fd', 'Bjoern', 'Waltersson', 'bjoern.waltersson@gmail.com', '073-7811105'), ('620925-4245', 'annber', '2c3339f366a420eb04c6b6c21b7746bf', 'Annette', 'Bergfalk', 'annette.bergfalk@telia.se', '0702-7855547'), ('630129-6936', 'valgra', '6c01156a337cb1e4748f3567bdeff63c', 'Valdemar', 'Grahn', 'valdemar.grahn@gmail.com', '070-1531320'), ('630303-4894', 'sigpet', '1bf3fa859c48493f5f2606ccaaa0f20e', 'Sigfrid', 'Petersson', 'sigfrid.petersson@yahoo.com', '0701-9399564'), ('630309-2528', 'virlju', '72cd11da65daac3c9e75ee19f93eb0dd', 'Virginia', 'Ljungman', 'virginia.ljungman@hotmail.com', '073-9485514'), ('630611-7069', 'hjowan', 'bb31bb1b1b3b1900fa619d1a7e3ebb92', 'Hjördis', 'Wang', 'hjordis.wang@hotmail.com', '073-8899553'), ('630912-1175', 'vigsor', '741adf496ee8c2d3e8c864e9567211af', 'Viggo', 'Sorenson', 'viggo.sorenson@gmail.com', '0701-1921858'), ('630929-1879', 'bensve', '06af2e43797e629c5a4c7bfe58a105c3', 'Bengt', 'Svenson', 'bengt.svenson@yahoo.com', '073-8906035'), ('640912-6799', 'ebbwes', '436c26abd464041efd354bc550f76482', 'Ebbe', 'Westerberg', 'ebbe.westerberg@gmail.com', '0701-1931783'), ('640913-5335', 'trumat', '195d221c982e47eb58347e5d06ce3180', 'Truls', 'Matsson', 'truls.matsson@hotmail.com', '073-5454387'), ('680820-7946', 'chasor', '0bc22e1c47f26addd1907b4931e507b1', 'Charlotte', 'Sörensen', 'charlotte.sorensen@yahoo.com', '070-6751319'), ('690206-8769', 'solbor', 'd6cb41a908909feead800375f0e96b04', 'Solvig', 'Borg', 'solvig.borg@hotmail.com', '0702-1110436'), ('720524-3728', 'svesol', '47551f847eb553f2600d124fdfd03730', 'Svea', 'Solberg', 'svea.solberg@hotmail.com', '0702-5177172'), ('731012-9018', 'gusber', 'bbc595e205a865a6afd9a8584f319f3b', 'Gustav', 'Berg', 'gustav.berg@hotmail.com', '0701-1998079'), ('741109-2058', 'aledah', '425e618ba6834cdff3e5235a648d7a49', 'Alexander', 'Dahl', 'alexander.dahl@telia.se', '073-2172719'), ('750210-6008', 'beamol', '85267d349a5e647ff0a9edcb5ffd1e02', 'Beata', 'Möller', 'beata.moller@hotmail.com', '070-3737944'), ('751123-9724', 'annake', 'ebf12cb74e96e67e63783d93c534ef27', 'Anne', 'Åkerman', 'anne.akerman@hotmail.com', '073-2485110'), ('770422-8188', 'maliek', '0866b954204f6576dcf4c59af968f2eb', 'Malin', 'Ek', 'malin.ek@telia.se', '0701-1212603'), ('800512-6752', 'raneri', '5128811422870279d063413608e0bc4b', 'Randi', 'Eriksson', 'randi.eriksson@gmail.com', '0702-8501636'), ('801022-4516', 'antrag', 'bd50f363001990ee1fe5d798702b1d5b', 'Anton', 'Ragnvaldsson', 'anton.ragnvaldsson@gmail.com', '070-633579'), ('811008-5301', 'sigpet', '0f70d19c41c092696766a57abe1b4266', 'Sigrid', 'Pettersson', 'sigrid.pettersson@gmail.com', '073-1536205'), ('820624-3075', 'andhan', 'f82e0b0c45c7babe84db897066335590', 'Anders', 'Hansson', 'anders.hansson@hotmail.com', '073-3519746'), ('841204-3830', 'kajing', '7a0c99ef914f596a9d745df32a9c84dd', 'Kaj', 'Ingesson', 'kaj.ingesson@gmail.com', '073-8740881'), ('851126-2068', 'elivan', 'ecd058faafa18f55f81d730b142f8fd3', 'Elisabeth', 'Vång', 'elisabeth.vang@hotmail.com', '073-1423995'), ('861110-5749', 'rakalb', 'df132656c11853d6118fe9d36eaba5e1', 'Rakel', 'Albertsson', 'rakel.albertsson@yahoo.com', '070-7753662'), ('880706-3713', 'felber', '3e016029eeb9a92852a656f33fbf1dc6', 'Felix', 'Berglund', 'felix.berglund@telia.se', '0701-608431'), ('890701-1480', 'felber', '03cafe742c11ddc94bff251c842b7f67', 'Felicia', 'Bertilsson', 'felicia.bertilsson@yahoo.com', '0702-82374'), ('910806-1370', 'petmol', '9ef248df74556f4768271660f5ef5f7b', 'Petter', 'Möller', 'petter.moller@yahoo.com', '073-3383188'), ('921005-4598', 'karlun', 'e26ebd564a492f55c8ceed4d97c5fedb', 'Kåre', 'Lundberg', 'kare.lundberg@yahoo.com', '0702-5836648'), ('921110-8377', 'edvalf', '9d4e5ea4418508b6a23445e3089f4898', 'Edvin', 'Alfsson', 'edvin.alfsson@yahoo.com', '073-3922225'), ('940406-2734', 'sighal', '20bb93fcb37c7ec9be51cf792d5c9609', 'Sigfrid', 'Hall', 'sigfrid.hall@gmail.com', '0701-8841184'), ('950527-6317', 'artbjo', '5b2b2d2bd0cd2c7a7019d2c2a7c6307a', 'Arthur', 'Björk', 'arthur.bjork@telia.se', '073-4539000'), ('970602-8733', 'petlju', '9323f21f2098b7288267c785458548b2', 'Peter', 'Ljungstrand', 'peter.ljungstrand@hotmail.com', '0702-4432102'), ('971220-1939', 'gorpat', 'fc14f949c1baf821079b6e2b9b22f553', 'Göran', 'Patriksson', 'goran.patriksson@hotmail.com', '0702-7294060'), ('980128-9944', 'careng', '6a5889bb0190d0211a991f47bb19a777', 'Caroline', 'Engström', 'caroline.engstrom@yahoo.com', '070-8674341'), ('981003-1947', 'ketber', '90918c5b8c17f80e32d5b155a7bf6197', 'Kettil', 'Bergfalk', 'kettil.bergfalk@yahoo.com', '070-2076573'), ('990130-1619', 'lenoma', '744878fbdd26871c594f57ca61733e09', 'Lennart', 'Öman', 'lennart.oman@yahoo.com', '070-6672001')]\n"
     ]
    }
   ],
   "source": [
    "name = \"';--\"\n",
    " \n",
    "unparameterized_query = text(\"Select * from Users where FirstName like '%\" + name + \"'%'\")\n",
    " \n",
    "with engine.connect() as conn:    \n",
    "    result = conn.execute(unparameterized_query)\n",
    "    print(result.fetchall())"
   ]
  },
  {
   "cell_type": "markdown",
   "metadata": {},
   "source": [
    "### Exercise\n",
    "Fix the airport search application above, and make it invulnerable to SQL injection attacks.\n",
    "\n",
    "For testing, you may try the search string: ';--\n",
    "\n",
    "This string will select **ALL** rows in the unfixed version off the app.\n",
    "\n",
    "When secured it should select **NO** rows, as no airport location contains the string: ';--"
   ]
  },
  {
   "cell_type": "code",
   "execution_count": 9,
   "metadata": {},
   "outputs": [
    {
     "name": "stdout",
     "output_type": "stream",
     "text": [
      "Search string: stock\n",
      "\n",
      "IATA    Airport name                                      Location\n",
      "ARN     Stockholm Arlanda Airport                         Stockholm, Sweden\n",
      "BMA     Stockholm Bromma Airport                          Stockholm, Sweden\n",
      "FST     Fort Stockton–Pecos County Airport                Fort Stockton, Texas, United States\n",
      "NYO     Stockholm Skavsta Airport                         Stockholm / Nyköping, Sweden\n",
      "RLG     Rostock–Laage Airport                             Rostock, Mecklenburg-Vorpommern, Germany\n",
      "SCK     Stockton Metropolitan Airport                     Stockton, California, United States\n",
      "SMP     Stockholm Airport[1]                              Stockholm, Papua New Guinea\n",
      "STO     metropolitan area6                                Stockholm, Sweden\n",
      "VST     Stockholm Västerås Airport                        Stockholm / Västerås, Sweden\n",
      "select top 10 IATA, [Airport name] as 'name', [Location served] as 'location' from airports where [Location served] like '%' + :search_string + '%' \n",
      "\n"
     ]
    }
   ],
   "source": [
    "search_string = input(\"Search airports: \")\n",
    "\n",
    "print(f\"Search string: {search_string}\\n\")\n",
    "\n",
    "safe_query = text(\"select top 10 IATA, [Airport name] as 'name', [Location served] as 'location' from airports where [Location served] like '%' + :search_string + '%'\")\n",
    "\n",
    "\n",
    "with engine.connect() as conn:    \n",
    "    result = conn.execute(safe_query, {\"search_string\": search_string})\n",
    "\n",
    "    print(f\"{'IATA'.ljust(8)}{'Airport name'.ljust(50)}{'Location'}\")\n",
    "    ' a'\n",
    "    for airport in result:\n",
    "        print(f\"{str(airport.IATA).ljust(8)}{str(airport.name).ljust(50)}{airport.location}\")\n",
    "\n",
    "    print(safe_query, '\\n')\n"
   ]
  }
 ],
 "metadata": {
  "interpreter": {
   "hash": "20a7226863652f8ba572b8157b0b6305f423aae4f16ee7c5077a4756a16dc3cf"
  },
  "kernelspec": {
   "display_name": "Python 3.9.0 ('Learning_Python-3NYKqp0N')",
   "language": "python",
   "name": "python3"
  },
  "language_info": {
   "codemirror_mode": {
    "name": "ipython",
    "version": 3
   },
   "file_extension": ".py",
   "mimetype": "text/x-python",
   "name": "python",
   "nbconvert_exporter": "python",
   "pygments_lexer": "ipython3",
   "version": "3.11.4"
  },
  "orig_nbformat": 4
 },
 "nbformat": 4,
 "nbformat_minor": 2
}
