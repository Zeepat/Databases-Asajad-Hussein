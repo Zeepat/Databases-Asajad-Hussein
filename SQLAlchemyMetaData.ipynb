{
 "cells": [
  {
   "cell_type": "markdown",
   "metadata": {},
   "source": [
    "# Establishing a database connection"
   ]
  },
  {
   "cell_type": "code",
   "execution_count": 59,
   "metadata": {},
   "outputs": [
    {
     "name": "stdout",
     "output_type": "stream",
     "text": [
      "Connecting to database using URL string:\n",
      "mssql+pyodbc://?odbc_connect=DRIVER=ODBC+Driver+17+for+SQL+Server;SERVER=192.168.2.223:1433;DATABASE=publictest;TrustServerCertificate=yes;UID=ITHS;PWD=ITHS; \n",
      "\n",
      "Error while connecting to database:\n",
      "\n",
      "(pyodbc.OperationalError) ('HYT00', '[HYT00] [Microsoft][ODBC Driver 17 for SQL Server]Login timeout expired (0) (SQLDriverConnect)')\n",
      "(Background on this error at: https://sqlalche.me/e/20/e3q8)\n"
     ]
    }
   ],
   "source": [
    "from sqlalchemy import create_engine\n",
    "from sqlalchemy.engine import URL\n",
    "from urllib.parse import unquote\n",
    "\n",
    "server_name   = \"localhost\"\n",
    "database_name = \"publictest\"\n",
    "\n",
    "connection_string = f\"DRIVER=ODBC Driver 17 for SQL Server;SERVER={server_name};DATABASE={database_name};TrustServerCertificate=yes;UID=ITHS;PWD=ITHS;\"\n",
    "url_string        = URL.create(\"mssql+pyodbc\", query={\"odbc_connect\": connection_string})\n",
    "\n",
    "print('Connecting to database using URL string:')\n",
    "unquoted_url = unquote(str(url_string))\n",
    "print(unquoted_url, '\\n')\n",
    "\n",
    "try:    \n",
    "    engine = create_engine(url_string)\n",
    "    with engine.connect() as connection:\n",
    "        print(f'Successfully connected to {database_name}!')\n",
    "except Exception as e:\n",
    "    print('Error while connecting to database:\\n')\n",
    "    print(e)"
   ]
  },
  {
   "cell_type": "markdown",
   "metadata": {},
   "source": [
    "# Setting up MetaData and declare tables"
   ]
  },
  {
   "cell_type": "code",
   "execution_count": 28,
   "metadata": {},
   "outputs": [
    {
     "name": "stdout",
     "output_type": "stream",
     "text": [
      "Table: pythonUsers\n",
      "id             INTEGER\n",
      "username       VARCHAR(30)\n",
      "password       VARCHAR\n",
      "server_id      INTEGER\n",
      "\n",
      "Table: pythonServers\n",
      "id             INTEGER\n",
      "servername     VARCHAR\n",
      "IP             VARCHAR(15)\n",
      "\n"
     ]
    }
   ],
   "source": [
    "from sqlalchemy import MetaData, Table, Column, Integer, String, ForeignKey\n",
    "metadata_obj = MetaData()\n",
    "\n",
    "user_table = Table(\n",
    "    \"pythonUsers\",\n",
    "    metadata_obj,\n",
    "    Column(\"id\", Integer, primary_key=True),\n",
    "    Column(\"username\", String(30)),\n",
    "    Column(\"password\", String),\n",
    "    Column(\"server_id\", ForeignKey('pythonServers.id'), nullable=False)\n",
    ")\n",
    "\n",
    "server_table = Table(\n",
    "    \"pythonServers\",\n",
    "    metadata_obj,\n",
    "    Column(\"id\", Integer, primary_key=True),\n",
    "    Column(\"servername\", String),\n",
    "    Column(\"IP\", String(15))\n",
    ")\n",
    "\n",
    "for name, table in metadata_obj.tables.items():\n",
    "    print(f\"Table: {name}\")\n",
    "\n",
    "    for column in table.c:\n",
    "        print(f\"{column.name.ljust(15)}{column.type}\")\n",
    "\n",
    "    print()"
   ]
  },
  {
   "cell_type": "markdown",
   "metadata": {},
   "source": [
    "# Create all metadata tables"
   ]
  },
  {
   "cell_type": "code",
   "execution_count": 29,
   "metadata": {},
   "outputs": [
    {
     "name": "stdout",
     "output_type": "stream",
     "text": [
      "Created tables:\n",
      "pythonUsers\n",
      "pythonServers\n"
     ]
    }
   ],
   "source": [
    "metadata_obj.create_all(engine)\n",
    "\n",
    "print(\"Created tables:\")\n",
    "\n",
    "for table in metadata_obj.tables:\n",
    "    print(table)"
   ]
  },
  {
   "cell_type": "markdown",
   "metadata": {},
   "source": [
    "# Drop all metadata tables"
   ]
  },
  {
   "cell_type": "code",
   "execution_count": 27,
   "metadata": {},
   "outputs": [
    {
     "name": "stdout",
     "output_type": "stream",
     "text": [
      "Dropped tables:\n",
      "pythonUsers\n",
      "pythonServers\n"
     ]
    }
   ],
   "source": [
    "metadata_obj.drop_all(engine)\n",
    "\n",
    "print(\"Dropped tables:\")\n",
    "\n",
    "for table in metadata_obj.tables:\n",
    "    print(table)"
   ]
  },
  {
   "cell_type": "markdown",
   "metadata": {},
   "source": [
    "# Insert server data (multiple rows)"
   ]
  },
  {
   "cell_type": "code",
   "execution_count": 30,
   "metadata": {},
   "outputs": [
    {
     "name": "stdout",
     "output_type": "stream",
     "text": [
      "Mario          192.168.0.23\n",
      "Luigi          192.168.0.185\n",
      "Yoshi          192.168.0.15\n",
      "Bowser         192.168.0.97\n",
      "INSERT INTO \"pythonServers\" (id, servername, \"IP\") VALUES (:id, :servername, :IP)\n"
     ]
    }
   ],
   "source": [
    "from sqlalchemy import insert\n",
    "import random, string\n",
    "\n",
    "servers = [\n",
    "    {\"servername\": \"Mario\", \"IP\": \"192.168.0.23\"},\n",
    "    {\"servername\": \"Luigi\", \"IP\": \"192.168.0.185\"},\n",
    "    {\"servername\": \"Yoshi\", \"IP\": \"192.168.0.15\"},\n",
    "    {\"servername\": \"Bowser\", \"IP\": \"192.168.0.97\"},\n",
    "]\n",
    "\n",
    "for server in servers:\n",
    "    print(f\"{server['servername'].ljust(15)}{server['IP']}\")\n",
    "\n",
    "statement = insert(server_table)\n",
    "print(statement)\n",
    "\n",
    "with engine.begin() as conn:\n",
    "    conn.execute(statement, servers)"
   ]
  },
  {
   "cell_type": "markdown",
   "metadata": {},
   "source": [
    "# Insert user data (single row)"
   ]
  },
  {
   "cell_type": "code",
   "execution_count": 39,
   "metadata": {},
   "outputs": [
    {
     "name": "stdout",
     "output_type": "stream",
     "text": [
      "INSERT INTO \"pythonUsers\" (username, password, server_id) VALUES (:username, :password, :server_id)\n",
      "{'username': 'Asajad', 'password': 'ahh6bzhs0l', 'server_id': 4}\n",
      "primary key value = 9\n"
     ]
    }
   ],
   "source": [
    "from sqlalchemy import insert\n",
    "import random, string\n",
    "\n",
    "username = input('Enter username:')\n",
    "password = ''.join(random.choice(string.ascii_letters + string.digits) for i in range(10))\n",
    "server_id = random.randint(1, 4)\n",
    "\n",
    "statement = insert(user_table).values(username=username, password=password, server_id=server_id)\n",
    "\n",
    "print(statement)\n",
    "print(statement.compile().params)\n",
    "\n",
    "with engine.begin() as conn:\n",
    "    result = conn.execute(statement)\n",
    "    print(f\"primary key value = {result.inserted_primary_key[0]}\")"
   ]
  },
  {
   "cell_type": "markdown",
   "metadata": {},
   "source": [
    "# Select queries\n",
    "In order to generate select queries we must first import select()"
   ]
  },
  {
   "cell_type": "code",
   "execution_count": 47,
   "metadata": {},
   "outputs": [],
   "source": [
    "from sqlalchemy import select, or_, and_"
   ]
  },
  {
   "cell_type": "markdown",
   "metadata": {},
   "source": [
    "Below are a few example of select queries:\n",
    "\n",
    "### Select full table data"
   ]
  },
  {
   "cell_type": "code",
   "execution_count": 41,
   "metadata": {},
   "outputs": [
    {
     "name": "stdout",
     "output_type": "stream",
     "text": [
      "SELECT \"pythonUsers\".id, \"pythonUsers\".username, \"pythonUsers\".password, \"pythonUsers\".server_id \n",
      "FROM \"pythonUsers\"\n"
     ]
    }
   ],
   "source": [
    "query = select(user_table)\n",
    "print(query)"
   ]
  },
  {
   "cell_type": "markdown",
   "metadata": {},
   "source": [
    "### Projection"
   ]
  },
  {
   "cell_type": "code",
   "execution_count": 42,
   "metadata": {},
   "outputs": [
    {
     "name": "stdout",
     "output_type": "stream",
     "text": [
      "SELECT \"pythonUsers\".username, \"pythonUsers\".password, :username_1 || \"pythonUsers\".username || :param_1 AS greeting \n",
      "FROM \"pythonUsers\"\n",
      "\n",
      "{'username_1': 'Hi ', 'param_1': '!'}\n"
     ]
    }
   ],
   "source": [
    "query = select(user_table.c.username, user_table.c.password, (\"Hi \" + user_table.c.username + \"!\").label('greeting'))\n",
    "print(f\"{query}\\n\\n{query.compile().params}\")"
   ]
  },
  {
   "cell_type": "markdown",
   "metadata": {},
   "source": [
    "### Selection"
   ]
  },
  {
   "cell_type": "code",
   "execution_count": 49,
   "metadata": {},
   "outputs": [
    {
     "name": "stdout",
     "output_type": "stream",
     "text": [
      "SELECT \"pythonUsers\".id, \"pythonUsers\".username, \"pythonUsers\".password, \"pythonUsers\".server_id \n",
      "FROM \"pythonUsers\" \n",
      "WHERE \"pythonUsers\".username = :username_1 OR \"pythonUsers\".server_id = :server_id_1\n",
      "\n",
      "{'username_1': 'Fredrik', 'server_id_1': 4}\n"
     ]
    }
   ],
   "source": [
    "query = select(user_table).where(or_(user_table.c.username == 'Fredrik', user_table.c.server_id == 4))\n",
    "print(f\"{query}\\n\\n{query.compile().params}\")"
   ]
  },
  {
   "cell_type": "markdown",
   "metadata": {},
   "source": [
    "### Order by"
   ]
  },
  {
   "cell_type": "code",
   "execution_count": 51,
   "metadata": {},
   "outputs": [
    {
     "name": "stdout",
     "output_type": "stream",
     "text": [
      "SELECT \"pythonUsers\".id, \"pythonUsers\".username, \"pythonUsers\".password, \"pythonUsers\".server_id \n",
      "FROM \"pythonUsers\" ORDER BY \"pythonUsers\".server_id ASC, \"pythonUsers\".username DESC\n",
      " LIMIT :param_1\n"
     ]
    }
   ],
   "source": [
    "query = select(user_table).order_by(user_table.c.server_id.asc(), user_table.c.username.desc()).limit(3)\n",
    "print(query)"
   ]
  },
  {
   "cell_type": "markdown",
   "metadata": {},
   "source": [
    "### Joining tables"
   ]
  },
  {
   "cell_type": "code",
   "execution_count": 25,
   "metadata": {},
   "outputs": [
    {
     "name": "stdout",
     "output_type": "stream",
     "text": [
      "SELECT \"pythonUsers\".id, \"pythonUsers\".username, \"pythonServers\".servername \n",
      "FROM \"pythonUsers\" JOIN \"pythonServers\" ON \"pythonServers\".id = \"pythonUsers\".server_id\n"
     ]
    }
   ],
   "source": [
    "query = select(user_table.c.id, user_table.c.username, server_table.c.servername).join_from(user_table, server_table)\n",
    "print(query)"
   ]
  },
  {
   "cell_type": "markdown",
   "metadata": {},
   "source": [
    "### Grouping and aggregation"
   ]
  },
  {
   "cell_type": "code",
   "execution_count": null,
   "metadata": {},
   "outputs": [],
   "source": [
    "from sqlalchemy import func\n",
    "\n",
    "query = (\n",
    "    select(server_table.c.servername, server_table.c.IP, func.count(user_table.c.id).label('Number of users'))\n",
    "    .join_from(user_table, server_table)\n",
    "    .group_by(server_table.c.servername, server_table.c.IP)\n",
    ")\n",
    "\n",
    "print(query)"
   ]
  },
  {
   "cell_type": "markdown",
   "metadata": {},
   "source": [
    "# Fetch data"
   ]
  },
  {
   "cell_type": "code",
   "execution_count": 52,
   "metadata": {},
   "outputs": [
    {
     "name": "stdout",
     "output_type": "stream",
     "text": [
      "SELECT \"pythonUsers\".id, \"pythonUsers\".username, \"pythonUsers\".password, \"pythonUsers\".server_id \n",
      "FROM \"pythonUsers\" ORDER BY \"pythonUsers\".server_id ASC, \"pythonUsers\".username DESC\n",
      " LIMIT :param_1\n",
      "\n",
      "{'param_1': 3}\n",
      "\n",
      "ID                   USERNAME             PASSWORD             SERVER_ID            \n",
      "3                    Anna                 8p6mnZqeSQ           1                    \n",
      "7                    Petra                Jk5wOhWWeJ           2                    \n",
      "5                    Karl                 fvhAWYNlN0           3                    \n"
     ]
    }
   ],
   "source": [
    "print(f\"{query}\\n\\n{query.compile().params}\\n\")\n",
    "\n",
    "with engine.connect() as conn:\n",
    "    result = conn.execute(query)\n",
    "    \n",
    "    for column_name in result.keys():\n",
    "        print(column_name.upper().ljust(20), end=' ')\n",
    "    \n",
    "    print()\n",
    "\n",
    "    for row in result:\n",
    "        for field in row:\n",
    "            print(str(field).ljust(20), end=' ')\n",
    "        \n",
    "        print()"
   ]
  },
  {
   "cell_type": "code",
   "execution_count": 54,
   "metadata": {},
   "outputs": [
    {
     "data": {
      "text/html": [
       "<div>\n",
       "<style scoped>\n",
       "    .dataframe tbody tr th:only-of-type {\n",
       "        vertical-align: middle;\n",
       "    }\n",
       "\n",
       "    .dataframe tbody tr th {\n",
       "        vertical-align: top;\n",
       "    }\n",
       "\n",
       "    .dataframe thead th {\n",
       "        text-align: right;\n",
       "    }\n",
       "</style>\n",
       "<table border=\"1\" class=\"dataframe\">\n",
       "  <thead>\n",
       "    <tr style=\"text-align: right;\">\n",
       "      <th></th>\n",
       "      <th>username</th>\n",
       "      <th>password</th>\n",
       "      <th>server_id</th>\n",
       "    </tr>\n",
       "    <tr>\n",
       "      <th>id</th>\n",
       "      <th></th>\n",
       "      <th></th>\n",
       "      <th></th>\n",
       "    </tr>\n",
       "  </thead>\n",
       "  <tbody>\n",
       "    <tr>\n",
       "      <th>3</th>\n",
       "      <td>Anna</td>\n",
       "      <td>8p6mnZqeSQ</td>\n",
       "      <td>1</td>\n",
       "    </tr>\n",
       "    <tr>\n",
       "      <th>7</th>\n",
       "      <td>Petra</td>\n",
       "      <td>Jk5wOhWWeJ</td>\n",
       "      <td>2</td>\n",
       "    </tr>\n",
       "    <tr>\n",
       "      <th>5</th>\n",
       "      <td>Karl</td>\n",
       "      <td>fvhAWYNlN0</td>\n",
       "      <td>3</td>\n",
       "    </tr>\n",
       "  </tbody>\n",
       "</table>\n",
       "</div>"
      ],
      "text/plain": [
       "   username    password  server_id\n",
       "id                                \n",
       "3      Anna  8p6mnZqeSQ          1\n",
       "7     Petra  Jk5wOhWWeJ          2\n",
       "5      Karl  fvhAWYNlN0          3"
      ]
     },
     "execution_count": 54,
     "metadata": {},
     "output_type": "execute_result"
    }
   ],
   "source": [
    "import pandas as pd\n",
    "\n",
    "df = pd.read_sql_query(query, con=engine, index_col=\"id\")\n",
    "\n",
    "df"
   ]
  },
  {
   "cell_type": "markdown",
   "metadata": {},
   "source": [
    "# Table reflection"
   ]
  },
  {
   "cell_type": "code",
   "execution_count": 55,
   "metadata": {},
   "outputs": [
    {
     "name": "stdout",
     "output_type": "stream",
     "text": [
      "Name                NVARCHAR(20) COLLATE \"Finnish_Swedish_CI_AS\"\n",
      "Code                NVARCHAR(7) COLLATE \"Finnish_Swedish_CI_AS\"\n",
      "Red                 INTEGER\n",
      "Green               INTEGER\n",
      "Blue                INTEGER\n",
      "hexcode             VARCHAR(7) COLLATE \"Finnish_Swedish_CI_AS\"\n"
     ]
    }
   ],
   "source": [
    "reflected_table = Table(\"colors\", metadata_obj, autoload_with=engine)\n",
    "\n",
    "for column in reflected_table.c:\n",
    "    print(f\"{column.name.ljust(20)}{column.type}\")\n"
   ]
  },
  {
   "cell_type": "markdown",
   "metadata": {},
   "source": [
    "### Query reflected table"
   ]
  },
  {
   "cell_type": "code",
   "execution_count": 56,
   "metadata": {},
   "outputs": [
    {
     "name": "stdout",
     "output_type": "stream",
     "text": [
      "SELECT colors.\"Name\", colors.\"Code\", colors.\"Red\", colors.\"Green\", colors.\"Blue\", colors.hexcode \n",
      "FROM colors\n",
      " LIMIT :param_1\n",
      "\n",
      "{'param_1': 10}\n",
      "\n"
     ]
    }
   ],
   "source": [
    "query = select(reflected_table).limit(10)\n",
    "print(f\"{query}\\n\\n{query.compile().params}\\n\")"
   ]
  }
 ],
 "metadata": {
  "interpreter": {
   "hash": "20a7226863652f8ba572b8157b0b6305f423aae4f16ee7c5077a4756a16dc3cf"
  },
  "kernelspec": {
   "display_name": "Python 3.9.0 ('Learning_Python-3NYKqp0N')",
   "language": "python",
   "name": "python3"
  },
  "language_info": {
   "codemirror_mode": {
    "name": "ipython",
    "version": 3
   },
   "file_extension": ".py",
   "mimetype": "text/x-python",
   "name": "python",
   "nbconvert_exporter": "python",
   "pygments_lexer": "ipython3",
   "version": "3.11.4"
  },
  "orig_nbformat": 4
 },
 "nbformat": 4,
 "nbformat_minor": 2
}
